{
 "cells": [
  {
   "cell_type": "markdown",
   "metadata": {},
   "source": [
    "<b style=\"font-size: 1.2em;\">\n",
    "    <span style=\"color: #CA1821;\">Insper</span>\n",
    "    <br/>\n",
    "    prof. Fábio Pelicano Vieira\n",
    "</b>\n",
    "<br/>\n",
    "<b>Modelagem e Simulação do mundo físico</b>\n",
    "<br/>\n",
    "<br/>\n",
    "<b style>Projeto #2</b>\n",
    "<br/>\n",
    "<b style=\"font-size: 1.4em;\">Termodinânima de uma xícara de chá</b>\n",
    "<br/>\n",
    "<br/>\n",
    "<b>Guilherme da Franca Silva Escobar</b>\n",
    "<br/>\n",
    "<b>Luciano Felix Dias</b>\n",
    "<br/>\n",
    "<b>Rodrigo Paoliello de Medeiros</b>\n"
   ]
  },
  {
   "cell_type": "markdown",
   "metadata": {},
   "source": [
    "## Introdução\n",
    "Intrudução ao projeto..."
   ]
  },
  {
   "cell_type": "markdown",
   "metadata": {},
   "source": [
    "**Figura 1  - Diagrama de Estoques e Fluxos**\n",
    "\n",
    "<img src=\"fluxograma.svg\" width=600 style=\"float: left;\"/>\n"
   ]
  },
  {
   "cell_type": "markdown",
   "metadata": {},
   "source": [
    "### Coeficientes e parâmetros\n"
   ]
  },
  {
   "cell_type": "code",
   "execution_count": 1,
   "metadata": {},
   "outputs": [],
   "source": [
    "import math\n",
    "import matplotlib.pyplot as plt\n",
    "import numpy as np\n",
    "from scipy.integrate import odeint"
   ]
  },
  {
   "cell_type": "code",
   "execution_count": 2,
   "metadata": {},
   "outputs": [],
   "source": [
    "# Coeficientes de Condutividade Térmica (em W/(m² * K))\n",
    "K_amb = 0.58\n",
    "K_ceramica = 1.05\n",
    "\n",
    "# Calores Específicos (em J/(kg * K))\n",
    "C_agua = 4180\n",
    "C_ceramica = 1070\n",
    "\n",
    "# Densidades (em kg/m³)\n",
    "D_ceramica = 2403\n",
    "D_agua = 1000\n",
    "\n",
    "# Tempraturas (em ºC)\n",
    "T_amb = 25\n",
    "T0_xicara = T_amb\n",
    "T_agua_ideal = 70\n",
    "\n",
    "# Coeficiente Convectivo do Ar\n",
    "h_ar = 10\n",
    "\n",
    "# Dimensões do Recipiente (em m)\n",
    "l = 0.005                    # Espessura\n",
    "h = 0.100                    # Altura\n",
    "r = 0.040                    # Raio\n",
    "h_int = h - l                # Altura interna\n",
    "r_int = r - l                # Raio interno\n",
    "Sb_ext = math.pi * r**2      # área da base externa\n",
    "Sb_int = math.pi * r_int**2  # área da base interna\n",
    "\n",
    "# Áreas (em m²)\n",
    "Sl_ext = (2 * math.pi * r) * h          # área lateral externa\n",
    "Sl_int = (2 * math.pi * r_int) * h_int  # área lateral interna\n",
    "S_ext  = Sb_ext + Sl_ext                # Área externa\n",
    "S_int  = Sb_int + Sl_int                # Área interna\n",
    "S_mid  = (S_ext + S_int) / 2            # Área intermediária\n",
    "\n",
    "# Volumes (em m³)\n",
    "v_agua = Sb_int * h_int\n",
    "v_xicara = (Sb_ext * h) - v_agua\n",
    "\n",
    "# Massas (em kg)\n",
    "m_xicara = v_xicara * D_ceramica\n",
    "m_agua = v_agua * D_agua\n",
    "\n",
    "# Resistências térmicas\n",
    "Rconv_1 = 1 / (h_ar * S_int)\n",
    "Rcond_1 = (l/2) / (K_ceramica * S_int)\n",
    "Rcond_2 = (l/2) / (K_ceramica * S_mid)\n",
    "Rconv_2 = 1 / (h_ar * S_ext)\n"
   ]
  },
  {
   "cell_type": "markdown",
   "metadata": {},
   "source": [
    "### Construção do modelo\n"
   ]
  },
  {
   "cell_type": "code",
   "execution_count": 3,
   "metadata": {},
   "outputs": [],
   "source": [
    "def modelo (T,t):\n",
    "    T_agua, T_xicara = T\n",
    "    \n",
    "    Q1 = (T_agua - T_amb) / Rconv_1\n",
    "    Q2 = (T_agua - T_xicara) / Rcond_1\n",
    "    Q3 = (T_xicara - T_amb) / (Rcond_2 + Rconv_2)\n",
    "    \n",
    "    dUadt = - Q1 - Q2\n",
    "    dUrdt = Q2 - Q3\n",
    "    \n",
    "    dTadt = dUadt / (m_agua * C_agua)\n",
    "    dTrdt = dUrdt / (m_xicara * C_ceramica)\n",
    "    \n",
    "    dxdt = (dTadt, dTrdt)\n",
    "    \n",
    "    return dxdt\n"
   ]
  },
  {
   "cell_type": "code",
   "execution_count": 4,
   "metadata": {},
   "outputs": [
    {
     "data": {
      "image/png": "[encoded data removed]",
      "text/plain": [
       "<Figure size 432x288 with 1 Axes>"
      ]
     },
     "metadata": {
      "needs_background": "light"
     },
     "output_type": "display_data"
    }
   ],
   "source": [
    "# Tempo (em seg)\n",
    "dt = 1e-2\n",
    "t_max = 300\n",
    "tempo_seg = np.arange(0, t_max, dt)\n",
    "\n",
    "# Tempo (em min)\n",
    "tempo_min = tempo_seg / 60\n",
    "\n",
    "# Temperaturas Iniciais (em ºC)\n",
    "T0_agua = 80\n",
    "T0 = (T0_agua, T0_xicara)\n",
    "\n",
    "# Implementação do modelo\n",
    "T_list = odeint(modelo, T0, tempo_seg)\n",
    "\n",
    "# Lista das temperaturas ao longo do tempo (em ºC)\n",
    "T_agua = T_list[:, 0]\n",
    "T_xicara = T_list[:, 1]\n",
    "\n",
    "# Plotagem do gráfico\n",
    "plt.plot(tempo_min, T_agua, label='Água')\n",
    "plt.plot(tempo_min, T_xicara, label='Xícara')\n",
    "plt.title('Série temporal teperatura da Água e da Xícara')\n",
    "plt.xlabel('Tempo (min)')\n",
    "plt.ylabel('Temperatura (ºC)')\n",
    "plt.legend()\n",
    "plt.grid()\n",
    "plt.savefig('temperatura.png', dpi=300, transparent=True)\n",
    "plt.show()\n"
   ]
  },
  {
   "cell_type": "markdown",
   "metadata": {},
   "source": [
    "### Validação do modelo\n"
   ]
  },
  {
   "cell_type": "code",
   "execution_count": 5,
   "metadata": {},
   "outputs": [
    {
     "data": {
      "image/png": "[encoded data removed]",
      "text/plain": [
       "<Figure size 432x288 with 1 Axes>"
      ]
     },
     "metadata": {
      "needs_background": "light"
     },
     "output_type": "display_data"
    }
   ],
   "source": [
    "T_agua_validação = (80, 75)\n",
    "t_min_validação = (0, 2.5)\n",
    "\n",
    "\n",
    "# Plotagem do gráfico\n",
    "plt.plot(tempo_min, T_agua, label=\"Modelo\")\n",
    "plt.plot(t_min_validação, T_agua_validação, \"o\", label=\"Validação\")\n",
    "plt.title('Série temporal teperatura da Água')\n",
    "plt.xlabel('Tempo (min)')\n",
    "plt.ylabel('Temperatura (ºC)')\n",
    "plt.legend()\n",
    "plt.grid()\n",
    "plt.savefig('validacao.png', dpi=300, transparent=True)\n",
    "plt.show()\n"
   ]
  },
  {
   "cell_type": "markdown",
   "metadata": {},
   "source": [
    "### Conclusão 1\n"
   ]
  },
  {
   "cell_type": "code",
   "execution_count": 6,
   "metadata": {},
   "outputs": [],
   "source": [
    "# Retorna o instante que uma temperatura caindo atinge um determinado valor\n",
    "def tempo_tempetarura_valor (lista_t, lista_T, T_valor):\n",
    "    instante = None\n",
    "    \n",
    "    for i, temperatura in enumerate(lista_T):\n",
    "        if temperatura <= T_valor:\n",
    "            instante = lista_t[i]\n",
    "            \n",
    "            break\n",
    "            \n",
    "    return instante\n"
   ]
  },
  {
   "cell_type": "code",
   "execution_count": 7,
   "metadata": {},
   "outputs": [
    {
     "data": {
      "image/png": "[encoded data removed]",
      "text/plain": [
       "<Figure size 432x288 with 1 Axes>"
      ]
     },
     "metadata": {
      "needs_background": "light"
     },
     "output_type": "display_data"
    }
   ],
   "source": [
    "# Temperaturas Iniciais (em ºC)\n",
    "lista_T0_agua = np.arange(80, 85, 0.25)\n",
    "\n",
    "# Tempos que a água chega na tempetarua ideal para cada temperatura inicial\n",
    "tempos_T_ideal = []\n",
    "\n",
    "for T0_agua in lista_T0_agua:\n",
    "    T0 = (T0_agua, T0_xicara)\n",
    "    \n",
    "    T_list_2 = odeint(modelo, T0, tempo_seg)\n",
    "    T_agua_2 = T_list_2[:, 0]\n",
    "    \n",
    "    tempo_T_ideal = tempo_tempetarura_valor(tempo_min, T_agua_2, T_agua_ideal)\n",
    "    \n",
    "    tempos_T_ideal.append(tempo_T_ideal)\n",
    "            \n",
    "# Plotagem do gráfico\n",
    "plt.plot(lista_T0_agua, tempos_T_ideal, 'o')\n",
    "plt.title('Tempo para a água chegar a 70 ºC em função da temperatura inicial')\n",
    "plt.ylabel('Tempo (min)')\n",
    "plt.xlabel('Temperatura inical (ºC)')\n",
    "plt.grid()\n",
    "plt.savefig('tempo_xicara.png', dpi=300, transparent=True)\n",
    "plt.show()\n"
   ]
  },
  {
   "cell_type": "markdown",
   "metadata": {},
   "source": [
    "### Conclusão 2\n"
   ]
  },
  {
   "cell_type": "code",
   "execution_count": 8,
   "metadata": {},
   "outputs": [],
   "source": [
    "def modelo_2 (T, t, xicara):\n",
    "    T_agua, T_xicara = T\n",
    "    K_xicara, C_xicara, D_xicara = xicara\n",
    "    \n",
    "    h_int = h - l         # Altura interna\n",
    "    r_int = r - l         # Raio interno\n",
    "    Sb_int = math.pi * r_int**2  # área da base interna\n",
    "\n",
    "    # Áreas (em m²)\n",
    "    Sl_int = (2 * math.pi * r_int) * h_int  # área lateral interna\n",
    "    S_int  = Sb_int + Sl_int                # Área interna\n",
    "    S_mid  = (S_ext + S_int) / 2            # Área intermediária\n",
    "\n",
    "    # Volumes (em m³)\n",
    "    v_agua = Sb_int * h_int\n",
    "    v_xicara = (Sb_ext * h) - v_agua\n",
    "\n",
    "    # Massas (em kg)\n",
    "    m_xicara = v_xicara * D_xicara\n",
    "\n",
    "    # Resistências térmicas\n",
    "    Rconv_1 = 1 / (h_ar * S_int)\n",
    "    Rcond_1 = (l/2) / (K_xicara * S_int)\n",
    "    Rcond_2 = (l/2) / (K_xicara * S_mid)\n",
    "    Rconv_2 = 1 / (h_ar * S_ext)\n",
    "    \n",
    "    Q1 = (T_agua - T_amb) / Rconv_1\n",
    "    Q2 = (T_agua - T_xicara) / Rcond_1\n",
    "    Q3 = (T_xicara - T_amb) / (Rcond_2 + Rconv_2)\n",
    "    \n",
    "    dUadt = - Q1 - Q2\n",
    "    dUrdt = Q2 - Q3\n",
    "    \n",
    "    dTadt = dUadt / (m_agua * C_agua)\n",
    "    dTrdt = dUrdt / (m_xicara * C_xicara)\n",
    "    \n",
    "    dxdt = (dTadt, dTrdt)\n",
    "    \n",
    "    return dxdt\n"
   ]
  },
  {
   "cell_type": "code",
   "execution_count": 9,
   "metadata": {},
   "outputs": [
    {
     "data": {
      "image/png": "[encoded data removed]",
      "text/plain": [
       "<Figure size 432x288 with 1 Axes>"
      ]
     },
     "metadata": {
      "needs_background": "light"
     },
     "output_type": "display_data"
    }
   ],
   "source": [
    "# Tempo (em s)\n",
    "dt_2 = 1e-2\n",
    "t_max_2 = 700\n",
    "tempo_2 = np.arange(0, t_max_2, dt_2)\n",
    "\n",
    "# Tempo (em s)\n",
    "tempo_2_min = tempo_2 / 60\n",
    "\n",
    "# Parâmetros para xicaras de firerentes materiais\n",
    "materiais     = (\"Cerâmica\", \"Vidro\", \"Madeira\", \"Alumínio\", \"Ouro\")\n",
    "K_xicara_list = (K_ceramica, 0.8,     0.14,      235,        327)\n",
    "C_xicara_list = (C_ceramica, 870,     2530,      900,        129)\n",
    "D_xicara_list = (D_ceramica, 2190,    690,       2700,       19300)\n",
    "\n",
    "xicaras = zip(K_xicara_list, C_xicara_list, D_xicara_list)\n",
    "\n",
    "# Tempos que a água chega na tempetarua ideal para cada xicara\n",
    "xicaras_tempos = []\n",
    "for xicara in xicaras:\n",
    "    \n",
    "    # Tempos que a água chega na tempetarua ideal para temeratura inicial\n",
    "    xicara_tempos = []\n",
    "    for T0_agua in lista_T0_agua:\n",
    "        T0 = (T0_agua, T0_xicara)\n",
    "\n",
    "        T_list_3 = odeint(modelo_2, T0, tempo_2, args=(xicara, ))\n",
    "        T_agua_3 = T_list_3[:, 0]\n",
    "        \n",
    "        xicara_tempo = tempo_tempetarura_valor(tempo_2_min, T_agua_3, T_agua_ideal)\n",
    "        xicara_tempos.append(xicara_tempo)\n",
    "\n",
    "    xicaras_tempos.append(xicara_tempos)\n",
    "\n",
    "# Plotagem do gráfico\n",
    "for i, material in enumerate(materiais):\n",
    "    xicara_tempos = xicaras_tempos[i]\n",
    "    \n",
    "    plt.plot(lista_T0_agua, xicara_tempos, \"o\", label=material)\n",
    "    \n",
    "plt.title('Tempo para a água chegar a 70 ºC em função da temperatura inicial para diferentes xicaras')\n",
    "plt.ylabel('Tempo (min)')\n",
    "plt.xlabel('Temperatura inical (ºC)')\n",
    "plt.legend()\n",
    "plt.grid()\n",
    "plt.savefig('tempos_xicaras.png', dpi=300, transparent=True)\n",
    "plt.show()\n"
   ]
  },
  {
   "cell_type": "code",
   "execution_count": null,
   "metadata": {},
   "outputs": [],
   "source": []
  }
 ],
 "metadata": {
  "kernelspec": {
   "display_name": "Python 3",
   "language": "python",
   "name": "python3"
  },
  "language_info": {
   "codemirror_mode": {
    "name": "ipython",
    "version": 3
   },
   "file_extension": ".py",
   "mimetype": "text/x-python",
   "name": "python",
   "nbconvert_exporter": "python",
   "pygments_lexer": "ipython3",
   "version": "3.8.3"
  }
 },
 "nbformat": 4,
 "nbformat_minor": 4
}
