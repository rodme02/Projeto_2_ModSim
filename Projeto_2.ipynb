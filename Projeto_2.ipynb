{
 "cells": [
  {
   "cell_type": "markdown",
   "metadata": {},
   "source": [
    "<b style=\"font-size: 1.2em;\">\n",
    "    <span style=\"color: #CA1821;\">Insper</span>\n",
    "    <br/>\n",
    "    prof. Fábio Pelicano Vieira\n",
    "</b>\n",
    "<br/>\n",
    "<b>Modelagem e Simulação do mundo físico</b>\n",
    "<br/>\n",
    "<br/>\n",
    "<b style>Projeto #2</b>\n",
    "<br/>\n",
    "<b style=\"font-size: 1.4em;\">Termodinânima de uma xícara de chá</b>\n",
    "<br/>\n",
    "<br/>\n",
    "<b>Guilherme da Franca Silva Escobar</b>\n",
    "<br/>\n",
    "<b>Luciano Felix Dias</b>\n",
    "<br/>\n",
    "<b>Rodrigo Paoliello de Medeiros</b>\n"
   ]
  },
  {
   "cell_type": "markdown",
   "metadata": {},
   "source": [
    "## Introdução\n",
    "Intrudução ao projeto..."
   ]
  },
  {
   "cell_type": "markdown",
   "metadata": {},
   "source": [
    "**Figura 1  - Diagrama de Estoques e Fluxos**\n",
    "\n",
    "<img src=\"fluxograma.svg\" width=600 style=\"float: left;\"/>\n"
   ]
  },
  {
   "cell_type": "code",
   "execution_count": 13,
   "metadata": {},
   "outputs": [],
   "source": [
    "import math\n",
    "import matplotlib.pyplot as plt\n",
    "import numpy as np\n",
    "from scipy.integrate import odeint"
   ]
  },
  {
   "cell_type": "code",
   "execution_count": 37,
   "metadata": {},
   "outputs": [],
   "source": [
    "# Coeficientes de Condutividade Térmica (em W/(m² * K))\n",
    "K_amb = 0.58\n",
    "K_ceramica = 1.05\n",
    "\n",
    "# Calores Específicos (em J/(kg * K))\n",
    "C_agua = 4180\n",
    "C_ceramica = 1070\n",
    "\n",
    "# Densidades (em kg/m³)\n",
    "D_ceramica = 2403\n",
    "D_agua = 1000\n",
    "\n",
    "# Tempratura Ambiente (em K)\n",
    "T_amb = 293.15\n",
    "\n",
    "# Coeficiente Convectivo do Ar\n",
    "h_ar = 10\n",
    "\n",
    "# Dimensões do Recipiente (em m)\n",
    "l = 0.005                    # Espessura\n",
    "h = 0.09                     # Altura\n",
    "r = 0.04                     # Raio\n",
    "h_int = h - l                # Altura interna\n",
    "r_int = r - l                # Raio interno\n",
    "Sb_ext = math.pi * r**2      # área da base externa\n",
    "Sb_int = math.pi * r_int**2  # área da base interna\n",
    "\n",
    "# Áreas (em m²)\n",
    "Sl_ext = (2 * math.pi * r) * h          # área lateral externa\n",
    "Sl_int = (2 * math.pi * r_int) * h_int  # área lateral interna\n",
    "S_ext  = Sb_ext + Sl_ext                # Área externa\n",
    "S_int  = Sb_int + Sl_int                # Área interna\n",
    "S_mid  = (S_ext + S_int) / 2            # Área intermediária\n",
    "\n",
    "# Volumes (em m³)\n",
    "v_agua = Sb_int * h_int\n",
    "v_xicara = (Sb_ext * h) - v_agua\n",
    "\n",
    "# Massas (em kg)\n",
    "m_xicara = v_xicara * D_ceramica\n",
    "m_agua = v_agua * D_agua\n",
    "\n",
    "# Resistências térmicas\n",
    "Rconv_1 = 1 / (h_ar * S_int)\n",
    "Rcond_1 = (l/2) / (K_ceramica * S_int)\n",
    "Rcond_2 = (l/2) / (K_ceramica * S_mid)\n",
    "Rconv_2 = 1 / (h_ar * S_ext)\n"
   ]
  },
  {
   "cell_type": "code",
   "execution_count": 15,
   "metadata": {},
   "outputs": [],
   "source": [
    "def modelo (T,t):\n",
    "    T_agua, T_xicara = T\n",
    "    \n",
    "    Q1 = (T_agua - T_amb) / Rconv_1\n",
    "    Q2 = (T_agua - T_xicara) / Rcond_1\n",
    "    Q3 = (T_xicara - T_amb) / (Rcond_2 + Rconv_2)\n",
    "    \n",
    "    dUadt = - Q1 - Q2\n",
    "    dUrdt = Q2 - Q3\n",
    "    \n",
    "    dTadt = dUadt / (m_agua * C_agua)\n",
    "    dTrdt = dUrdt / (m_xicara * C_ceramica)\n",
    "    \n",
    "    dxdt = (dTadt, dTrdt)\n",
    "    \n",
    "    return dxdt\n"
   ]
  },
  {
   "cell_type": "code",
   "execution_count": 79,
   "metadata": {},
   "outputs": [
    {
     "ename": "MemoryError",
     "evalue": "Unable to allocate 2.24 GiB for an array with shape (299999999,) and data type float64",
     "output_type": "error",
     "traceback": [
      "\u001b[1;31m---------------------------------------------------------------------------\u001b[0m",
      "\u001b[1;31mMemoryError\u001b[0m                               Traceback (most recent call last)",
      "\u001b[1;32m<ipython-input-79-d36b327acf19>\u001b[0m in \u001b[0;36m<module>\u001b[1;34m\u001b[0m\n\u001b[0;32m     10\u001b[0m \u001b[1;33m\u001b[0m\u001b[0m\n\u001b[0;32m     11\u001b[0m \u001b[1;31m# Implementação do modelo\u001b[0m\u001b[1;33m\u001b[0m\u001b[1;33m\u001b[0m\u001b[1;33m\u001b[0m\u001b[0m\n\u001b[1;32m---> 12\u001b[1;33m \u001b[0mT_list\u001b[0m \u001b[1;33m=\u001b[0m \u001b[0modeint\u001b[0m\u001b[1;33m(\u001b[0m\u001b[0mmodelo\u001b[0m\u001b[1;33m,\u001b[0m \u001b[0mT0\u001b[0m\u001b[1;33m,\u001b[0m \u001b[0mtempo\u001b[0m\u001b[1;33m)\u001b[0m\u001b[1;33m\u001b[0m\u001b[1;33m\u001b[0m\u001b[0m\n\u001b[0m\u001b[0;32m     13\u001b[0m \u001b[0mT_agua\u001b[0m \u001b[1;33m=\u001b[0m \u001b[0mT_list\u001b[0m\u001b[1;33m[\u001b[0m\u001b[1;33m:\u001b[0m\u001b[1;33m,\u001b[0m\u001b[1;36m0\u001b[0m\u001b[1;33m]\u001b[0m \u001b[1;33m-\u001b[0m \u001b[1;36m273.15\u001b[0m\u001b[1;33m\u001b[0m\u001b[1;33m\u001b[0m\u001b[0m\n\u001b[0;32m     14\u001b[0m \u001b[0mT_xicara\u001b[0m \u001b[1;33m=\u001b[0m \u001b[0mT_list\u001b[0m\u001b[1;33m[\u001b[0m\u001b[1;33m:\u001b[0m\u001b[1;33m,\u001b[0m\u001b[1;36m1\u001b[0m\u001b[1;33m]\u001b[0m \u001b[1;33m-\u001b[0m \u001b[1;36m273.15\u001b[0m\u001b[1;33m\u001b[0m\u001b[1;33m\u001b[0m\u001b[0m\n",
      "\u001b[1;32mC:\\ProgramData\\Anaconda3\\lib\\site-packages\\scipy\\integrate\\odepack.py\u001b[0m in \u001b[0;36modeint\u001b[1;34m(func, y0, t, args, Dfun, col_deriv, full_output, ml, mu, rtol, atol, tcrit, h0, hmax, hmin, ixpr, mxstep, mxhnil, mxordn, mxords, printmessg, tfirst)\u001b[0m\n\u001b[0;32m    231\u001b[0m         \u001b[0mmu\u001b[0m \u001b[1;33m=\u001b[0m \u001b[1;33m-\u001b[0m\u001b[1;36m1\u001b[0m  \u001b[1;31m# changed to zero inside function call\u001b[0m\u001b[1;33m\u001b[0m\u001b[1;33m\u001b[0m\u001b[0m\n\u001b[0;32m    232\u001b[0m \u001b[1;33m\u001b[0m\u001b[0m\n\u001b[1;32m--> 233\u001b[1;33m     \u001b[0mdt\u001b[0m \u001b[1;33m=\u001b[0m \u001b[0mnp\u001b[0m\u001b[1;33m.\u001b[0m\u001b[0mdiff\u001b[0m\u001b[1;33m(\u001b[0m\u001b[0mt\u001b[0m\u001b[1;33m)\u001b[0m\u001b[1;33m\u001b[0m\u001b[1;33m\u001b[0m\u001b[0m\n\u001b[0m\u001b[0;32m    234\u001b[0m     \u001b[1;32mif\u001b[0m \u001b[1;32mnot\u001b[0m\u001b[1;33m(\u001b[0m\u001b[1;33m(\u001b[0m\u001b[0mdt\u001b[0m \u001b[1;33m>=\u001b[0m \u001b[1;36m0\u001b[0m\u001b[1;33m)\u001b[0m\u001b[1;33m.\u001b[0m\u001b[0mall\u001b[0m\u001b[1;33m(\u001b[0m\u001b[1;33m)\u001b[0m \u001b[1;32mor\u001b[0m \u001b[1;33m(\u001b[0m\u001b[0mdt\u001b[0m \u001b[1;33m<=\u001b[0m \u001b[1;36m0\u001b[0m\u001b[1;33m)\u001b[0m\u001b[1;33m.\u001b[0m\u001b[0mall\u001b[0m\u001b[1;33m(\u001b[0m\u001b[1;33m)\u001b[0m\u001b[1;33m)\u001b[0m\u001b[1;33m:\u001b[0m\u001b[1;33m\u001b[0m\u001b[1;33m\u001b[0m\u001b[0m\n\u001b[0;32m    235\u001b[0m         raise ValueError(\"The values in t must be monotonically increasing \"\n",
      "\u001b[1;32m<__array_function__ internals>\u001b[0m in \u001b[0;36mdiff\u001b[1;34m(*args, **kwargs)\u001b[0m\n",
      "\u001b[1;32mC:\\ProgramData\\Anaconda3\\lib\\site-packages\\numpy\\lib\\function_base.py\u001b[0m in \u001b[0;36mdiff\u001b[1;34m(a, n, axis, prepend, append)\u001b[0m\n\u001b[0;32m   1267\u001b[0m     \u001b[0mop\u001b[0m \u001b[1;33m=\u001b[0m \u001b[0mnot_equal\u001b[0m \u001b[1;32mif\u001b[0m \u001b[0ma\u001b[0m\u001b[1;33m.\u001b[0m\u001b[0mdtype\u001b[0m \u001b[1;33m==\u001b[0m \u001b[0mnp\u001b[0m\u001b[1;33m.\u001b[0m\u001b[0mbool_\u001b[0m \u001b[1;32melse\u001b[0m \u001b[0msubtract\u001b[0m\u001b[1;33m\u001b[0m\u001b[1;33m\u001b[0m\u001b[0m\n\u001b[0;32m   1268\u001b[0m     \u001b[1;32mfor\u001b[0m \u001b[0m_\u001b[0m \u001b[1;32min\u001b[0m \u001b[0mrange\u001b[0m\u001b[1;33m(\u001b[0m\u001b[0mn\u001b[0m\u001b[1;33m)\u001b[0m\u001b[1;33m:\u001b[0m\u001b[1;33m\u001b[0m\u001b[1;33m\u001b[0m\u001b[0m\n\u001b[1;32m-> 1269\u001b[1;33m         \u001b[0ma\u001b[0m \u001b[1;33m=\u001b[0m \u001b[0mop\u001b[0m\u001b[1;33m(\u001b[0m\u001b[0ma\u001b[0m\u001b[1;33m[\u001b[0m\u001b[0mslice1\u001b[0m\u001b[1;33m]\u001b[0m\u001b[1;33m,\u001b[0m \u001b[0ma\u001b[0m\u001b[1;33m[\u001b[0m\u001b[0mslice2\u001b[0m\u001b[1;33m]\u001b[0m\u001b[1;33m)\u001b[0m\u001b[1;33m\u001b[0m\u001b[1;33m\u001b[0m\u001b[0m\n\u001b[0m\u001b[0;32m   1270\u001b[0m \u001b[1;33m\u001b[0m\u001b[0m\n\u001b[0;32m   1271\u001b[0m     \u001b[1;32mreturn\u001b[0m \u001b[0ma\u001b[0m\u001b[1;33m\u001b[0m\u001b[1;33m\u001b[0m\u001b[0m\n",
      "\u001b[1;31mMemoryError\u001b[0m: Unable to allocate 2.24 GiB for an array with shape (299999999,) and data type float64"
     ]
    }
   ],
   "source": [
    "# Tempo (em min)\n",
    "dt = 1e-8\n",
    "t_max = 3\n",
    "tempo = np.arange(0, t_max, dt)\n",
    "\n",
    "# Temperaturas Iniciais (em K)\n",
    "T0_agua = 353.15\n",
    "T0_xicara = 298.15\n",
    "T0 = (T0_agua, T0_xicara)\n",
    "\n",
    "# Implementação do modelo\n",
    "T_list = odeint(modelo, T0, tempo)\n",
    "T_agua = T_list[:,0] - 273.15\n",
    "T_xicara = T_list[:,1] - 273.15\n",
    "\n",
    "# Plotagem do gráfico\n",
    "plt.plot(tempo, T_agua, label='Água')\n",
    "plt.plot(tempo, T_xicara, label='Xícara')\n",
    "plt.title('Série temporal teperatura da Água e da Xícara')\n",
    "plt.xlabel('Tempo (min)')\n",
    "plt.ylabel('Temperatura (ºC)')\n",
    "plt.legend()\n",
    "plt.grid()\n",
    "plt.show()\n",
    "plt.savefig('temperatura.png')\n"
   ]
  },
  {
   "cell_type": "code",
   "execution_count": 74,
   "metadata": {},
   "outputs": [
    {
     "data": {
      "image/png": "[encoded data removed]",
      "text/plain": [
       "<Figure size 432x288 with 1 Axes>"
      ]
     },
     "metadata": {
      "needs_background": "light"
     },
     "output_type": "display_data"
    },
    {
     "data": {
      "text/plain": [
       "<Figure size 432x288 with 0 Axes>"
      ]
     },
     "metadata": {},
     "output_type": "display_data"
    }
   ],
   "source": [
    "# Temperaturas Iniciais (em K)\n",
    "lista_T0_agua = np.arange(353.15, 358.15, 0.5)\n",
    "\n",
    "# Implementação do modelo\n",
    "lista_tempos = []\n",
    "\n",
    "for T0_agua in lista_T0_agua:\n",
    "    T0 = (T0_agua, T0_xicara)\n",
    "    \n",
    "    T_list = odeint(modelo, T0, tempo)\n",
    "    T_agua_list = T_list[:,0]\n",
    "    \n",
    "    for i, T in enumerate(T_agua_list):\n",
    "        if T <= 70 + 273.15:\n",
    "            instante = tempo[i]\n",
    "            \n",
    "            lista_tempos.append(instante)\n",
    "            break\n",
    "            \n",
    "# Plotagem do gráfico\n",
    "plt.plot(lista_T0_agua-273.15, lista_tempos)\n",
    "plt.plot(lista_T0_agua-273.15, lista_tempos, 'o')\n",
    "plt.title('Tempo para a água chegar a 70 ºC em função da temperatura inicial')\n",
    "plt.ylabel('Tempo (s)')\n",
    "plt.xlabel('Temperatura inical (ºC)')\n",
    "plt.grid()\n",
    "plt.show()\n",
    "plt.savefig('tempo_xicara.png')\n"
   ]
  },
  {
   "cell_type": "code",
   "execution_count": 71,
   "metadata": {},
   "outputs": [],
   "source": [
    "def modelo_2 (T, t, xicara):\n",
    "    K_xicara, C_xicara, d_xicara, l_xicara = xicara\n",
    "    \n",
    "    h_int = h - l_xicara         # Altura interna\n",
    "    r_int = r - l_xicara         # Raio interno\n",
    "    Sb_int = math.pi * r_int**2  # área da base interna\n",
    "\n",
    "    # Áreas (em m²)\n",
    "    Sl_int = (2 * math.pi * r_int) * h_int  # área lateral interna\n",
    "    S_int  = Sb_int + Sl_int                # Área interna\n",
    "    S_mid  = (S_ext + S_int) / 2            # Área intermediária\n",
    "\n",
    "    # Volumes (em m³)\n",
    "    v_agua = Sb_int * h_int\n",
    "    v_xicara = (Sb_ext * h) - v_agua\n",
    "\n",
    "    # Massas (em kg)\n",
    "    m_xicara = v_xicara * d_xicara\n",
    "\n",
    "    # Resistências térmicas\n",
    "    Rconv_1 = 1 / (h_ar * S_int)\n",
    "    Rcond_1 = (l_xicara/2) / (K_xicara * S_int)\n",
    "    Rcond_2 = (l_xicara/2) / (K_xicara * S_mid)\n",
    "    Rconv_2 = 1 / (h_ar * S_ext)\n",
    "    \n",
    "    T_agua, T_xicara = T\n",
    "    \n",
    "    Q1 = (T_agua - T_amb) / Rconv_1\n",
    "    Q2 = (T_agua - T_xicara) / Rcond_1\n",
    "    Q3 = (T_xicara - T_amb) / (Rcond_2 + Rconv_2)\n",
    "    \n",
    "    dUadt = - Q1 - Q2\n",
    "    dUrdt = Q2 - Q3\n",
    "    \n",
    "    dTadt = dUadt / (m_agua * C_agua)\n",
    "    dTrdt = dUrdt / (m_xicara * C_xicara)\n",
    "    \n",
    "    dxdt = [dTadt, dTrdt]\n",
    "    \n",
    "    return dxdt\n"
   ]
  },
  {
   "cell_type": "code",
   "execution_count": 76,
   "metadata": {},
   "outputs": [
    {
     "data": {
      "image/png": "[encoded data removed]",
      "text/plain": [
       "<Figure size 432x288 with 1 Axes>"
      ]
     },
     "metadata": {
      "needs_background": "light"
     },
     "output_type": "display_data"
    }
   ],
   "source": [
    "# Tempo (em s)\n",
    "dt = 1e-2\n",
    "t_max = 700\n",
    "tempo = np.arange(0, t_max, dt)\n",
    "\n",
    "materiais = (\"Cerâmica\", \"Vidro\", \"Madeira\", \"Alumínio\", \"Ouro\")\n",
    "K_xicara_list = (K_ceramica, 0.8, 0.14, 235, 327)\n",
    "C_xicara_list = (C_ceramica, 870, 2530, 900, 129)\n",
    "D_xicara_list = (D_ceramica, 2190, 690, 2700, 19300)\n",
    "l_xicara_list = (l, l, l, l, l, l)\n",
    "\n",
    "xicaras = zip(K_xicara_list, C_xicara_list, D_xicara_list, l_xicara_list)\n",
    "\n",
    "# Implementação do modelo\n",
    "xicaras_tempos = []\n",
    "\n",
    "for xicara in xicaras:\n",
    "    xicara_tempos = []\n",
    "    \n",
    "    for T0_agua in lista_T0_agua:\n",
    "        T0 = (T0_agua, T0_xicara)\n",
    "\n",
    "        T_list = odeint(modelo_2, T0, tempo, args=(xicara, ))\n",
    "        T_agua_list = T_list[:,0] - 273.15\n",
    "\n",
    "        for i, T in enumerate(T_agua_list):\n",
    "            if T <= 70:\n",
    "                instante = tempo[i]\n",
    "\n",
    "                xicara_tempos.append(instante)\n",
    "                break\n",
    "\n",
    "    xicaras_tempos.append(xicara_tempos)\n",
    "\n",
    "# Plotagem do gráfico\n",
    "for i, material in enumerate(materiais):\n",
    "    xicara_tempos = xicaras_tempos[i]\n",
    "    \n",
    "    plt.plot(lista_T0_agua-273.15, xicara_tempos, label=material)\n",
    "    \n",
    "plt.title('Tempo para a água chegar a 70 ºC em função da temperatura inicial para diferentes xicaras')\n",
    "plt.ylabel('Tempo (s)')\n",
    "plt.xlabel('Temperatura inical (ºC)')\n",
    "plt.legend()\n",
    "plt.grid()\n",
    "plt.savefig('tempos_xicaras.png')\n",
    "plt.show()\n"
   ]
  },
  {
   "cell_type": "code",
   "execution_count": null,
   "metadata": {},
   "outputs": [],
   "source": []
  }
 ],
 "metadata": {
  "kernelspec": {
   "display_name": "Python 3",
   "language": "python",
   "name": "python3"
  },
  "language_info": {
   "codemirror_mode": {
    "name": "ipython",
    "version": 3
   },
   "file_extension": ".py",
   "mimetype": "text/x-python",
   "name": "python",
   "nbconvert_exporter": "python",
   "pygments_lexer": "ipython3",
   "version": "3.8.3"
  }
 },
 "nbformat": 4,
 "nbformat_minor": 4
}
