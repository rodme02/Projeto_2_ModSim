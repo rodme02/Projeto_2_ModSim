{
 "cells": [
  {
   "cell_type": "markdown",
   "metadata": {},
   "source": [
    "# Projeto 2 - Modelagem e Simulação do Mundo Físico#"
   ]
  },
  {
   "cell_type": "markdown",
   "metadata": {},
   "source": [
    "**Rodrigo Paoliello de Medeiros**\n",
    "\n",
    "**Luciano Felix Dias**\n",
    "\n",
    "**Guilherme da Franca Silva Escobar**"
   ]
  },
  {
   "cell_type": "markdown",
   "metadata": {},
   "source": [
    "Coeficiente de Condutividade Térmica do Água: 0,58 (W/mK)\n",
    "\n",
    "Coeficiente de Condutividade Térmica do Vidro: 0,8 (W/mK)\n",
    "\n",
    "Calor Específico da Água: 4180 (J/kgK)\n",
    "\n",
    "Calor Específico do Vidro: 812 (J/kgK)\n",
    "\n",
    "Temperatura Ambiente: 25 ºC\n",
    "\n",
    "Coeficiente convectivo do ar: 10\n",
    "\n",
    "Altura da Caneca: 9 cm\n",
    "\n",
    "Diâmetro da Caneca: 8 cm\n",
    "\n",
    "Área da Base: π4^2\n",
    "\n",
    "Espessura da Caneca: 5 mm\n",
    "\n",
    "Densidade do Vidro: 2500 kg/m³\n",
    "\n",
    "Temperatura da Água: 80 ºC a 85 ºC"
   ]
  },
  {
   "cell_type": "markdown",
   "metadata": {},
   "source": [
    "<left><img src=\"Diagrama_Projeto_2.jpg\" width=600 style=\"float: center; margin: 0px 0px 10px 10px\"></left>\n",
    "<left><b>Diagrama de Estoques e Fluxos</b></left>"
   ]
  },
  {
   "cell_type": "code",
   "execution_count": null,
   "metadata": {},
   "outputs": [],
   "source": []
  }
 ],
 "metadata": {
  "kernelspec": {
   "display_name": "Python 3",
   "language": "python",
   "name": "python3"
  },
  "language_info": {
   "codemirror_mode": {
    "name": "ipython",
    "version": 3
   },
   "file_extension": ".py",
   "mimetype": "text/x-python",
   "name": "python",
   "nbconvert_exporter": "python",
   "pygments_lexer": "ipython3",
   "version": "3.7.6"
  }
 },
 "nbformat": 4,
 "nbformat_minor": 4
}
