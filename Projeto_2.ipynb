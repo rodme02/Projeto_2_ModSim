{
 "cells": [
  {
   "cell_type": "markdown",
   "metadata": {},
   "source": [
    "<b style=\"font-size: 1.2em;\">\n",
    "    <span style=\"color: #CA1821;\">Insper</span>\n",
    "    <br/>\n",
    "    prof. Fábio Pelicano Vieira\n",
    "</b>\n",
    "<br/>\n",
    "<b>Modelagem e Simulação do mundo físico</b>\n",
    "<br/>\n",
    "<br/>\n",
    "<b style>Projeto #2</b>\n",
    "<br/>\n",
    "<b style=\"font-size: 1.4em;\">Termodinânima de uma xícara de chá</b>\n",
    "<br/>\n",
    "<br/>\n",
    "<b>Guilherme da Franca Silva Escobar</b>\n",
    "<br/>\n",
    "<b>Luciano Felix Dias</b>\n",
    "<br/>\n",
    "<b>Rodrigo Paoliello de Medeiros</b>\n"
   ]
  },
  {
   "cell_type": "markdown",
   "metadata": {},
   "source": [
    "## Introdução\n",
    "\n",
    "Este projeto consiste na construção de um modelo que descreve o comportamento termodinâmico de uma xícara de chá com água quente, a fim de estimar sua temperatura ao longo do tempo com a validação de um experimento real, e, a partir disso, tomar consclusões.\n"
   ]
  },
  {
   "cell_type": "markdown",
   "metadata": {},
   "source": [
    "**Figura 1  - Diagrama de Estoques e Fluxos**\n",
    "\n",
    "<img src=\"fluxograma.svg\" width=600 style=\"float: left;\"/>\n"
   ]
  },
  {
   "cell_type": "markdown",
   "metadata": {},
   "source": [
    "### Bibliotecas, coeficientes e parâmetros\n"
   ]
  },
  {
   "cell_type": "code",
   "execution_count": 1,
   "metadata": {},
   "outputs": [],
   "source": [
    "from math import pi\n",
    "import numpy as np\n",
    "from scipy.integrate import odeint\n",
    "import matplotlib.pyplot as plt"
   ]
  },
  {
   "cell_type": "code",
   "execution_count": 2,
   "metadata": {},
   "outputs": [],
   "source": [
    "# Coeficiente de transferência convectiva do Ar (em J/(s ⋅ m² ⋅ K))\n",
    "h_ar = 10\n",
    "\n",
    "# Coeficientes de Condutividade Térmica (em W/(m² ⋅ K))\n",
    "K_ambiente = 0.58\n",
    "K_ceramica = 1.05\n",
    "\n",
    "# Calores Específicos (em J/(kg ⋅ K))\n",
    "c_agua     = 4180\n",
    "c_ceramica = 1070\n",
    "\n",
    "# Densidades (em kg/m³)\n",
    "D_ceramica = 2403\n",
    "D_agua     = 1000\n",
    "\n",
    "# Tempraturas (em ºC)\n",
    "# Embora o projeto utilize unidades do sistema internacional, as variações de temperatura em ºC são as mesmas em K.\n",
    "T_ambiente   = 25\n",
    "T0_xicara    = T_ambiente\n",
    "T_agua_ideal = 65\n",
    "\n",
    "# Dimensões do Recipiente (em m)\n",
    "l = 0.005      # Espessura\n",
    "h = 0.100      # Altura\n",
    "r = 0.040      # Raio\n",
    "h_int = h - l  # Altura interna\n",
    "r_int = r - l  # Raio interno\n",
    "\n",
    "# Áreas (em m²)\n",
    "Ab_ext = pi * r**2               # Área da base externa\n",
    "Ab_int = pi * r_int**2           # Área da base interna\n",
    "Al_ext = 2 * pi * r * h          # Área lateral externa\n",
    "Al_int = 2 * pi * r_int * h_int  # Área lateral interna\n",
    "A_ext  = Ab_ext + Al_ext         # Área externa\n",
    "A_int  = Ab_int + Al_int         # Área interna\n",
    "A_mid  = (A_ext + A_int) / 2     # Área intermediária\n",
    "\n",
    "# Volumes (em m³)\n",
    "v_agua   = Ab_int * h_int\n",
    "v_xicara = Ab_ext * h - v_agua\n",
    "\n",
    "# Massas (em kg)\n",
    "m_xicara = v_xicara * D_ceramica\n",
    "m_agua   = v_agua * D_agua\n",
    "\n",
    "# Resistências térmicas (em K/W)\n",
    "Rconv_1 = 1 / (h_ar * A_int)\n",
    "Rcond_1 = (l/2) / (K_ceramica * A_int)\n",
    "Rcond_2 = (l/2) / (K_ceramica * A_mid)\n",
    "Rconv_2 = 1 / (h_ar * A_ext)\n"
   ]
  },
  {
   "cell_type": "markdown",
   "metadata": {},
   "source": [
    "### Construção do modelo\n"
   ]
  },
  {
   "cell_type": "code",
   "execution_count": 3,
   "metadata": {},
   "outputs": [],
   "source": [
    "def modelo (T,t):\n",
    "    # Temperaturas instantâneas (em K)\n",
    "    T_agua, T_xicara = T\n",
    "    \n",
    "    # Calores (em j/s)\n",
    "    Q1 = (T_agua - T_ambiente) / Rconv_1\n",
    "    Q2 = (T_agua - T_xicara) / Rcond_1\n",
    "    Q3 = (T_xicara - T_ambiente) / (Rcond_2 + Rconv_2)\n",
    "    \n",
    "    # Variações de energia interna (em j/s)\n",
    "    dUadt = - Q1 - Q2\n",
    "    dUrdt = Q2 - Q3\n",
    "    \n",
    "    # Variações de temperatura (em K)\n",
    "    dTadt = dUadt / (m_agua * c_agua)\n",
    "    dTrdt = dUrdt / (m_xicara * c_ceramica)\n",
    "    \n",
    "    dxdt = (dTadt, dTrdt)\n",
    "    \n",
    "    return dxdt\n"
   ]
  },
  {
   "cell_type": "code",
   "execution_count": 4,
   "metadata": {},
   "outputs": [
    {
     "data": {
      "image/png": "[encoded data removed]",
      "text/plain": [
       "<Figure size 432x288 with 1 Axes>"
      ]
     },
     "metadata": {
      "needs_background": "light"
     },
     "output_type": "display_data"
    }
   ],
   "source": [
    "# Tempo (em seg)\n",
    "dt = 1e-2\n",
    "t_max = 480\n",
    "tempo_seg = np.arange(0, t_max, dt)\n",
    "\n",
    "# Tempo (em min)\n",
    "tempo_min = tempo_seg / 60\n",
    "\n",
    "# Temperaturas Iniciais (em ºC)\n",
    "T0_agua = 80\n",
    "T0 = (T0_agua, T0_xicara)\n",
    "\n",
    "# Implementação do modelo\n",
    "T_list = odeint(modelo, T0, tempo_seg)\n",
    "\n",
    "# Lista das temperaturas ao longo do tempo (em ºC)\n",
    "T_agua = T_list[:, 0]\n",
    "T_xicara = T_list[:, 1]\n",
    "\n",
    "# Plotagem do gráfico\n",
    "plt.plot(tempo_min, T_agua, label='Água')\n",
    "plt.plot(tempo_min, T_xicara, label='Xícara')\n",
    "\n",
    "plt.plot([tempo_min[0], tempo_min[-1]], [65, 65], \"k--\", lw=1)  # Linha de referencia para a temperatura ideal da água\n",
    "\n",
    "plt.title('Série temporal teperatura da Água e da Xícara')\n",
    "plt.xlabel('Tempo (min)')\n",
    "plt.ylabel('Temperatura (ºC)')\n",
    "plt.legend()\n",
    "plt.grid()\n",
    "plt.savefig('temperatura.png', dpi=300, transparent=True)\n",
    "plt.show()\n"
   ]
  },
  {
   "cell_type": "markdown",
   "metadata": {},
   "source": [
    "### Validação do modelo\n",
    "\n",
    "Este bloco tem a função de construir um gráfico que comporte dados obtidos a partir da observação empirica e do modelo construído nesse projeto, com o objetivo o validar.\n"
   ]
  },
  {
   "cell_type": "code",
   "execution_count": 5,
   "metadata": {},
   "outputs": [
    {
     "data": {
      "image/png": "[encoded data removed]",
      "text/plain": [
       "<Figure size 432x288 with 1 Axes>"
      ]
     },
     "metadata": {
      "needs_background": "light"
     },
     "output_type": "display_data"
    }
   ],
   "source": [
    "# Temperaturas medidas em experimento\n",
    "T_agua_validação = (80, 66)\n",
    "\n",
    "# Tempos das medições\n",
    "t_min_validação = (0, 5.5)\n",
    "\n",
    "# Plotagem do gráfico\n",
    "plt.plot(tempo_min, T_agua, label=\"Modelo\")\n",
    "plt.plot(t_min_validação, T_agua_validação, \"o\", label=\"Validação\")\n",
    "\n",
    "plt.plot([tempo_min[0], tempo_min[-1]], [65, 65], \"k--\", lw=1)  # Linha de referencia para a temperatura ideal da água\n",
    "\n",
    "plt.title('Série temporal teperatura da Água')\n",
    "plt.xlabel('Tempo (min)')\n",
    "plt.ylabel('Temperatura (ºC)')\n",
    "plt.legend()\n",
    "plt.grid()\n",
    "plt.savefig('validacao.png', dpi=300, transparent=True)\n",
    "plt.show()\n"
   ]
  },
  {
   "cell_type": "markdown",
   "metadata": {},
   "source": [
    "### Conclusão 1\n",
    "\n",
    "Com os blocos de código a seguir, busca-se responder a seguinte questão: *Quanto tempo demora para a água atingir a temeratura recomendada para bebidas quentes, dependendo da temperatura inicial da água?*\n"
   ]
  },
  {
   "cell_type": "code",
   "execution_count": 6,
   "metadata": {},
   "outputs": [],
   "source": [
    "# Retorna o instante que uma temperatura caindo atinge um determinado valor\n",
    "def tempo_tempetarura_valor (lista_t, lista_T, T_valor):\n",
    "    instante = None\n",
    "    \n",
    "    for i, temperatura in enumerate(lista_T):\n",
    "        if temperatura <= T_valor:\n",
    "            instante = lista_t[i]\n",
    "            \n",
    "            break\n",
    "            \n",
    "    return instante\n"
   ]
  },
  {
   "cell_type": "code",
   "execution_count": 7,
   "metadata": {},
   "outputs": [
    {
     "data": {
      "image/png": "[encoded data removed]",
      "text/plain": [
       "<Figure size 432x288 with 1 Axes>"
      ]
     },
     "metadata": {
      "needs_background": "light"
     },
     "output_type": "display_data"
    }
   ],
   "source": [
    "# Tempo (em s)\n",
    "dt_2 = 1e-1\n",
    "t_max_2 = 900\n",
    "tempo_2_seg = np.arange(0, t_max_2, dt_2)\n",
    "\n",
    "# Tempo (em s)\n",
    "tempo_2_min = tempo_2_seg / 60\n",
    "\n",
    "# Temperaturas Iniciais (em ºC)\n",
    "lista_T0_agua = np.arange(80, 85, 0.25)\n",
    "\n",
    "# Tempos que a água chega na tempetarua ideal para cada temperatura inicial\n",
    "tempos_T_ideal = []\n",
    "\n",
    "for T0_agua in lista_T0_agua:\n",
    "    T0 = (T0_agua, T0_xicara)\n",
    "    \n",
    "    # Implementação do modelo\n",
    "    T_list_2 = odeint(modelo, T0, tempo_2_seg)\n",
    "    T_agua_2 = T_list_2[:, 0]\n",
    "    \n",
    "    # Dado conclusivo\n",
    "    tempo_T_ideal = tempo_tempetarura_valor(tempo_2_min, T_agua_2, T_agua_ideal)\n",
    "    tempos_T_ideal.append(tempo_T_ideal)\n",
    "            \n",
    "# Plotagem do gráfico\n",
    "plt.plot(lista_T0_agua, tempos_T_ideal, 'o')\n",
    "plt.title('Tempo para a água chegar a 65 ºC em função da temperatura inicial')\n",
    "plt.ylabel('Tempo (min)')\n",
    "plt.xlabel('Temperatura inical (ºC)')\n",
    "plt.grid()\n",
    "plt.savefig('tempo_xicara.png', dpi=300, transparent=True)\n",
    "plt.show()\n"
   ]
  },
  {
   "cell_type": "markdown",
   "metadata": {},
   "source": [
    "### Conclusão 2\n",
    "\n",
    "Com os blocos de código a seguir, busca-se responder a seguinte questão: *Quanto tempo demora para a água atingir a temeratura recomendada para bebidas quentes, dependendo da temperatura inicial da água e do material da xícara?*\n"
   ]
  },
  {
   "cell_type": "code",
   "execution_count": 8,
   "metadata": {},
   "outputs": [],
   "source": [
    "def modelo_2 (T, t, xicara):\n",
    "    # Temperaturas instantâneas (em K)\n",
    "    T_agua, T_xicara = T\n",
    "    \n",
    "    # Coeficientes do recipiente (em W/(m² ⋅ K); J/(kg ⋅ K) e kg/m³, respectivamente)\n",
    "    K_xicara, c_xicara, D_xicara = xicara\n",
    "\n",
    "    # Massas (em kg)\n",
    "    m_xicara = v_xicara * D_xicara\n",
    "\n",
    "    # Resistências térmicas (em K/W)\n",
    "    Rconv_1 = 1 / (h_ar * A_int)\n",
    "    Rcond_1 = (l/2) / (K_xicara * A_int)\n",
    "    Rcond_2 = (l/2) / (K_xicara * A_mid)\n",
    "    Rconv_2 = 1 / (h_ar * A_ext)\n",
    "    \n",
    "    # Calores (em j/s)\n",
    "    Q1 = (T_agua - T_ambiente) / Rconv_1\n",
    "    Q2 = (T_agua - T_xicara) / Rcond_1\n",
    "    Q3 = (T_xicara - T_ambiente) / (Rcond_2 + Rconv_2)\n",
    "    \n",
    "    # Variações de energia interna (em j/s)\n",
    "    dUadt = - Q1 - Q2\n",
    "    dUrdt = Q2 - Q3\n",
    "    \n",
    "    # Variações de temperatura (em K)\n",
    "    dTadt = dUadt / (m_agua * c_agua)\n",
    "    dTrdt = dUrdt / (m_xicara * c_xicara)\n",
    "    \n",
    "    dxdt = (dTadt, dTrdt)\n",
    "    \n",
    "    return dxdt\n"
   ]
  },
  {
   "cell_type": "code",
   "execution_count": 9,
   "metadata": {},
   "outputs": [
    {
     "data": {
      "image/png": "[encoded data removed]",
      "text/plain": [
       "<Figure size 432x288 with 1 Axes>"
      ]
     },
     "metadata": {
      "needs_background": "light"
     },
     "output_type": "display_data"
    }
   ],
   "source": [
    "# Parâmetros para xicaras de firerentes materiais\n",
    "materiais     = (\"Cerâmica\", \"Vidro\", \"Madeira\", \"Alumínio\", \"Ouro\")\n",
    "K_xicara_list = (K_ceramica, 0.8,     0.14,      235,        327)    # em W/(m² ⋅ K)\n",
    "c_xicara_list = (c_ceramica, 870,     2530,      900,        129)    # em J/(kg ⋅ K)\n",
    "D_xicara_list = (D_ceramica, 2190,    690,       2700,       19300)  # em kg/m³\n",
    "\n",
    "xicaras = zip(K_xicara_list, c_xicara_list, D_xicara_list)\n",
    "\n",
    "# Tempos que a água chega na tempetarua ideal para cada xicara\n",
    "xicaras_tempos = []\n",
    "for xicara in xicaras:\n",
    "    \n",
    "    # Tempos que a água chega na tempetarua ideal para temeratura inicial\n",
    "    xicara_tempos = []\n",
    "    for T0_agua in lista_T0_agua:\n",
    "        T0 = (T0_agua, T0_xicara)\n",
    "\n",
    "        # Implementação do modelo\n",
    "        T_list_3 = odeint(modelo_2, T0, tempo_2_seg, args=(xicara, ))\n",
    "        T_agua_3 = T_list_3[:, 0]\n",
    "        \n",
    "        # Dado conclusivo\n",
    "        xicara_tempo = tempo_tempetarura_valor(tempo_2_min, T_agua_3, T_agua_ideal)\n",
    "        xicara_tempos.append(xicara_tempo)\n",
    "\n",
    "    xicaras_tempos.append(xicara_tempos)\n",
    "\n",
    "# Plotagem do gráfico\n",
    "for i, material in enumerate(materiais):\n",
    "    xicara_tempos = xicaras_tempos[i]\n",
    "    \n",
    "    plt.plot(lista_T0_agua, xicara_tempos, \"o\", label=material)\n",
    "    \n",
    "plt.title('Tempo para a água chegar a 65 ºC em função da temperatura inicial para diferentes xicaras')\n",
    "plt.ylabel('Tempo (min)')\n",
    "plt.xlabel('Temperatura inical (ºC)')\n",
    "plt.legend()\n",
    "plt.grid()\n",
    "plt.savefig('tempos_xicaras.png', dpi=300, transparent=True)\n",
    "plt.show()\n"
   ]
  }
 ],
 "metadata": {
  "kernelspec": {
   "display_name": "Python 3",
   "language": "python",
   "name": "python3"
  },
  "language_info": {
   "codemirror_mode": {
    "name": "ipython",
    "version": 3
   },
   "file_extension": ".py",
   "mimetype": "text/x-python",
   "name": "python",
   "nbconvert_exporter": "python",
   "pygments_lexer": "ipython3",
   "version": "3.8.3"
  }
 },
 "nbformat": 4,
 "nbformat_minor": 4
}
