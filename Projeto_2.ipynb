{
 "cells": [
  {
   "cell_type": "markdown",
   "metadata": {},
   "source": [
    "<b style=\"font-size: 1.2em;\">\n",
    "    <span style=\"color: #CA1821;\">Insper</span>\n",
    "    <br/>\n",
    "    prof. Fábio Pelicano Vieira\n",
    "</b>\n",
    "<br/>\n",
    "<b>Modelagem e Simulação do mundo físico</b>\n",
    "<br/>\n",
    "<br/>\n",
    "<b style>Projeto #2</b>\n",
    "<br/>\n",
    "<b style=\"font-size: 1.4em;\">Termodinânima de uma xícara de chá</b>\n",
    "<br/>\n",
    "<br/>\n",
    "<b>Guilherme da Franca Silva Escobar</b>\n",
    "<br/>\n",
    "<b>Luciano Felix Dias</b>\n",
    "<br/>\n",
    "<b>Rodrigo Paoliello de Medeiros</b>\n"
   ]
  },
  {
   "cell_type": "markdown",
   "metadata": {},
   "source": [
    "## Introdução\n",
    "\n",
    "Este projeto consiste na construção de um modelo que descreve o comportamento termodinâmico de uma xícara de chá com água quente, a fim de estimar sua temperatura ao longo do tempo com a validação de um experimento real, e, a partir disso, tomar consclusões.\n"
   ]
  },
  {
   "cell_type": "markdown",
   "metadata": {},
   "source": [
    "**Figura 1  - Esquema do objeto e fluxos de calor**\n",
    "\n",
    "<img src=\"esquema.svg\" width=400 style=\"margin-left: 0;\"/>\n",
    "\n",
    "<br/>\n",
    "\n",
    "**Figura 2  - Diagrama de Estoques e Fluxos**\n",
    "\n",
    "<img src=\"fluxograma.svg\" width=600 style=\"margin-left: 0;\"/>\n"
   ]
  },
  {
   "cell_type": "markdown",
   "metadata": {},
   "source": [
    "### Bibliotecas, coeficientes e parâmetros\n"
   ]
  },
  {
   "cell_type": "code",
   "execution_count": 1,
   "metadata": {},
   "outputs": [],
   "source": [
    "from math import pi\n",
    "import numpy as np\n",
    "from scipy.integrate import odeint\n",
    "import matplotlib.pyplot as plt"
   ]
  },
  {
   "cell_type": "code",
   "execution_count": 2,
   "metadata": {},
   "outputs": [],
   "source": [
    "# Coeficiente de transferência convectiva do Ar (em W/(m² ⋅ K))\n",
    "h_ar = 25\n",
    "\n",
    "# Coeficientes de Condutividade Térmica (em W/(m² ⋅ K))\n",
    "K_ambiente = 0.58\n",
    "K_ceramica = 1.05\n",
    "\n",
    "# Calores Específicos (em J/(kg ⋅ K))\n",
    "c_agua     = 4180\n",
    "c_ceramica = 1070\n",
    "\n",
    "# Densidades (em kg/m³)\n",
    "D_ceramica = 2403\n",
    "D_agua     = 1000\n",
    "\n",
    "# Tempraturas (em ºC)\n",
    "# Embora o projeto utilize unidades do sistema internacional, as variações de temperatura em ºC são as mesmas em K.\n",
    "T_ambiente   = 20.5\n",
    "T0_xicara    = T_ambiente\n",
    "T_agua_ideal = 65\n",
    "\n",
    "# Dimensões do recipiente (em m)\n",
    "l = 0.005      # Espessura\n",
    "h = 0.950      # Altura\n",
    "r = 0.040      # Raio\n",
    "h_int = h - l  # Altura interna\n",
    "r_int = r - l  # Raio interno\n",
    "\n",
    "# Áreas (em m²)\n",
    "Ab_ext = pi * r**2               # Área da base externa\n",
    "Ab_int = pi * r_int**2           # Área da base interna\n",
    "Al_ext = 2 * pi * r * h          # Área lateral externa\n",
    "Al_int = 2 * pi * r_int * h_int  # Área lateral interna\n",
    "A_ext  = Ab_ext + Al_ext         # Área externa\n",
    "A_int  = Ab_int + Al_int         # Área interna\n",
    "A_mid  = (A_ext + A_int) / 2     # Área intermediária\n",
    "\n",
    "# Volumes (em m³)\n",
    "v_agua   = Ab_int * h_int\n",
    "v_xicara = Ab_ext * h - v_agua\n",
    "\n",
    "# Massas (em kg)\n",
    "m_xicara = v_xicara * D_ceramica\n",
    "m_agua   = v_agua * D_agua\n",
    "\n",
    "# Resistências térmicas (em K/W)\n",
    "Rconv_1 = 1 / (h_ar * A_int)\n",
    "Rcond_1 = (l/2) / (K_ceramica * A_int)\n",
    "Rcond_2 = (l/2) / (K_ceramica * A_mid)\n",
    "Rconv_2 = 1 / (h_ar * A_ext)\n"
   ]
  },
  {
   "cell_type": "markdown",
   "metadata": {},
   "source": [
    "### Construção do modelo\n"
   ]
  },
  {
   "cell_type": "code",
   "execution_count": 3,
   "metadata": {},
   "outputs": [],
   "source": [
    "def modelo (T,t):\n",
    "    # Temperaturas instantâneas (em K)\n",
    "    T_agua, T_xicara = T\n",
    "    \n",
    "    # Calores (em j/s)\n",
    "    Q1 = (T_agua - T_ambiente) / Rconv_1\n",
    "    Q2 = (T_agua - T_xicara) / Rcond_1\n",
    "    Q3 = (T_xicara - T_ambiente) / (Rcond_2 + Rconv_2)\n",
    "    \n",
    "    # Variações de energia interna (em j/s)\n",
    "    dUadt = - Q1 - Q2\n",
    "    dUrdt = Q2 - Q3\n",
    "    \n",
    "    # Variações de temperatura (em K)\n",
    "    dTadt = dUadt / (m_agua * c_agua)\n",
    "    dTrdt = dUrdt / (m_xicara * c_ceramica)\n",
    "    \n",
    "    dTdt = (dTadt, dTrdt)\n",
    "    \n",
    "    return dTdt\n"
   ]
  },
  {
   "cell_type": "code",
   "execution_count": 4,
   "metadata": {},
   "outputs": [
    {
     "data": {
      "image/png": "[encoded data removed]",
      "text/plain": [
       "<Figure size 432x288 with 1 Axes>"
      ]
     },
     "metadata": {
      "needs_background": "light"
     },
     "output_type": "display_data"
    }
   ],
   "source": [
    "# Tempo (em s)\n",
    "dt = 1e-1\n",
    "t_max = 300\n",
    "tempo_seg = np.arange(0, t_max, dt)\n",
    "\n",
    "# Tempo (em min)\n",
    "tempo_min = tempo_seg / 60\n",
    "\n",
    "# Temperaturas Iniciais (em ºC)\n",
    "T0_agua = 80\n",
    "T0 = (T0_agua, T0_xicara)\n",
    "\n",
    "# Implementação do modelo\n",
    "T_list = odeint(modelo, T0, tempo_seg)\n",
    "\n",
    "# Lista das temperaturas ao longo do tempo (em ºC)\n",
    "T_agua = T_list[:, 0]\n",
    "T_xicara = T_list[:, 1]\n",
    "\n",
    "# Plotagem do gráfico\n",
    "plt.plot(tempo_min, T_agua, label='Água')\n",
    "plt.plot(tempo_min, T_xicara, label='Xícara')\n",
    "\n",
    "plt.plot([tempo_min[0], tempo_min[-1]], [65, 65], \"k--\", lw=1)  # Linha de referencia da temperatura ideal da água\n",
    "\n",
    "plt.title('Série temporal teperatura da Água e da Xícara')\n",
    "plt.xlabel('Tempo (min)')\n",
    "plt.ylabel('Temperatura (ºC)')\n",
    "plt.legend()\n",
    "plt.grid()\n",
    "plt.savefig('temperatura.png', dpi=300, transparent=True)\n",
    "plt.show()\n"
   ]
  },
  {
   "cell_type": "markdown",
   "metadata": {},
   "source": [
    "### Validação do modelo\n",
    "\n",
    "Este bloco tem a função de construir um gráfico que compare dados obtidos a partir do modelo consturido nesse projeto e de observações empiricas, com o objetivo de validar o modelo.\n"
   ]
  },
  {
   "cell_type": "code",
   "execution_count": 5,
   "metadata": {},
   "outputs": [
    {
     "data": {
      "image/png": "[encoded data removed]",
      "text/plain": [
       "<Figure size 432x288 with 1 Axes>"
      ]
     },
     "metadata": {
      "needs_background": "light"
     },
     "output_type": "display_data"
    }
   ],
   "source": [
    "# Temperaturas medidas em experimento\n",
    "T_agua_validação = (None, None, 69.2, None, 73.1, 73.9, 74, 73.4, 72.9, 72.6, 71.6, 71.1, 70.5, 70.2, 69.8, 69.6, 69.3, 69, 68.8, 68.7, 68.4, 68.3, 68.2, 68, 67.8, 67.6, 67.5, 67.4, 67.3, 67.3, 67, 67, 66.8, 66.7, 66.7, 66.6, 66.6, 66.5, 66.3, 66.2, 66.1, 66, 65.9, 65.8, 65.8, 65.6, 65.6, 65.5, 65.5, 65.3, 65.2, 65.2, 65.1, 65, 64.9, 64.8, 64.7, 64.6, 64.6, 64.4, 64.4, 64.3, 64.2, 64.2, 64, 64, 63.9, 63.8, 63.7, 63.7, 63.6, 63.6, 63.6, 63.6, 63.4, 63.3)\n",
    "\n",
    "# Tempos das medições\n",
    "t_min_validação = (0, 0.07, 0.13, 0.2, 0.27, 0.33, 0.4, 0.47, 0.53, 0.6, 0.67, 0.73, 0.8, 0.87, 0.93, 1, 1.07, 1.13, 1.2, 1.27, 1.33, 1.4, 1.47, 1.53, 1.6, 1.67, 1.73, 1.8, 1.87, 1.93, 2, 2.07, 2.13, 2.2, 2.27, 2.33, 2.4, 2.47, 2.53, 2.6, 2.67, 2.73, 2.8, 2.87, 2.93, 3, 3.07, 3.13, 3.2, 3.27, 3.33, 3.4, 3.47, 3.53, 3.6, 3.67, 3.73, 3.8, 3.87, 3.93, 4, 4.07, 4.13, 4.2, 4.27, 4.33, 4.4, 4.47, 4.53, 4.6, 4.67, 4.73, 4.8, 4.87, 4.93, 5)\n",
    "\n",
    "# Plotagem do gráfico\n",
    "plt.plot(tempo_min, T_agua, label=\"Modelo\")\n",
    "plt.plot(t_min_validação, T_agua_validação, \"o\", label=\"Validação\")\n",
    "\n",
    "plt.plot([tempo_min[0], tempo_min[-1]], [65, 65], \"k--\", lw=1)  # Linha de referencia para a temperatura ideal da água\n",
    "\n",
    "plt.title('Série temporal temperatura da Água')\n",
    "plt.xlabel('Tempo (min)')\n",
    "plt.ylabel('Temperatura (ºC)')\n",
    "plt.legend()\n",
    "plt.grid()\n",
    "plt.savefig('validacao.png', dpi=300, transparent=True)\n",
    "plt.show()\n"
   ]
  },
  {
   "cell_type": "markdown",
   "metadata": {},
   "source": [
    "### Conclusão 1\n",
    "\n",
    "Com os blocos de código a seguir, busca-se responder a seguinte questão: *Quanto tempo demora para a água atingir a temeratura recomendada para bebidas quentes, dependendo da temperatura inicial da água?*\n"
   ]
  },
  {
   "cell_type": "code",
   "execution_count": 6,
   "metadata": {},
   "outputs": [],
   "source": [
    "# Retorna o instante que uma temperatura caindo atinge um determinado valor\n",
    "def tempo_tempetarura_valor (lista_t, lista_T, T_valor):\n",
    "    instante = None\n",
    "    \n",
    "    for i, temperatura in enumerate(lista_T):\n",
    "        if temperatura <= T_valor:\n",
    "            instante = lista_t[i]\n",
    "            \n",
    "            break\n",
    "            \n",
    "    return instante\n"
   ]
  },
  {
   "cell_type": "code",
   "execution_count": 7,
   "metadata": {},
   "outputs": [
    {
     "data": {
      "image/png": "[encoded data removed]",
      "text/plain": [
       "<Figure size 432x288 with 1 Axes>"
      ]
     },
     "metadata": {
      "needs_background": "light"
     },
     "output_type": "display_data"
    }
   ],
   "source": [
    "# Tempo (em s)\n",
    "dt_2 = 1e-1\n",
    "t_max_2 = 2000\n",
    "tempo_2_seg = np.arange(0, t_max_2, dt_2)\n",
    "\n",
    "# Tempo (em min)\n",
    "tempo_2_min = tempo_2_seg / 60\n",
    "\n",
    "# Temperaturas Iniciais (em ºC)\n",
    "lista_T0_agua = np.arange(80, 85, 0.25)\n",
    "\n",
    "# Tempos que a água chega na tempetarua ideal para cada temperatura inicial\n",
    "tempos_T_ideal = []\n",
    "\n",
    "for T0_agua in lista_T0_agua:\n",
    "    T0 = (T0_agua, T0_xicara)\n",
    "    \n",
    "    # Implementação do modelo\n",
    "    T_list_2 = odeint(modelo, T0, tempo_2_seg)\n",
    "    T_agua_2 = T_list_2[:, 0]\n",
    "    \n",
    "    # Dado conclusivo\n",
    "    tempo_T_ideal = tempo_tempetarura_valor(tempo_2_min, T_agua_2, T_agua_ideal)\n",
    "    tempos_T_ideal.append(tempo_T_ideal)\n",
    "            \n",
    "# Plotagem do gráfico\n",
    "plt.plot(lista_T0_agua, tempos_T_ideal, 'o')\n",
    "plt.title('Tempo para a temperatura da água chegar a 65 ºC em função da temperatura inicial')\n",
    "plt.ylabel('Tempo (min)')\n",
    "plt.xlabel('Temperatura inical (ºC)')\n",
    "plt.grid()\n",
    "plt.savefig('tempo_xicara.png', dpi=300, transparent=True)\n",
    "plt.show()\n"
   ]
  },
  {
   "cell_type": "markdown",
   "metadata": {},
   "source": [
    "### Conclusão 2\n",
    "\n",
    "Com os blocos de código a seguir, busca-se responder a seguinte questão: *Quanto tempo demora para a água atingir a temperatura recomendada para bebidas quentes, dependendo da temperatura inicial da água e do material da xícara?*\n"
   ]
  },
  {
   "cell_type": "code",
   "execution_count": 8,
   "metadata": {},
   "outputs": [],
   "source": [
    "def modelo_2 (T, t, xicara):\n",
    "    # Temperaturas instantâneas (em K)\n",
    "    T_agua, T_xicara = T\n",
    "    \n",
    "    # Coeficientes do recipiente (em W/(m² ⋅ K); J/(kg ⋅ K) e kg/m³, respectivamente)\n",
    "    K_xicara, c_xicara, D_xicara = xicara\n",
    "\n",
    "    # Massas (em kg)\n",
    "    m_xicara = v_xicara * D_xicara\n",
    "\n",
    "    # Resistências térmicas (em K/W)\n",
    "    Rconv_1 = 1 / (h_ar * A_int)\n",
    "    Rcond_1 = (l/2) / (K_xicara * A_int)\n",
    "    Rcond_2 = (l/2) / (K_xicara * A_mid)\n",
    "    Rconv_2 = 1 / (h_ar * A_ext)\n",
    "    \n",
    "    # Calores (em j/s)\n",
    "    Q1 = (T_agua - T_ambiente) / Rconv_1\n",
    "    Q2 = (T_agua - T_xicara) / Rcond_1\n",
    "    Q3 = (T_xicara - T_ambiente) / (Rcond_2 + Rconv_2)\n",
    "    \n",
    "    # Variações de energia interna (em j/s)\n",
    "    dUadt = - Q1 - Q2\n",
    "    dUrdt = Q2 - Q3\n",
    "    \n",
    "    # Variações de temperatura (em K)\n",
    "    dTadt = dUadt / (m_agua * c_agua)\n",
    "    dTrdt = dUrdt / (m_xicara * c_xicara)\n",
    "    \n",
    "    dTdt = (dTadt, dTrdt)\n",
    "    \n",
    "    return dTdt\n"
   ]
  },
  {
   "cell_type": "code",
   "execution_count": 9,
   "metadata": {},
   "outputs": [
    {
     "data": {
      "image/png": "[encoded data removed]",
      "text/plain": [
       "<Figure size 432x288 with 1 Axes>"
      ]
     },
     "metadata": {
      "needs_background": "light"
     },
     "output_type": "display_data"
    }
   ],
   "source": [
    "# Coeficientes de Condutividade Térmica (em W/(m² ⋅ K))\n",
    "K_vidro    = 0.8\n",
    "K_madeira  = 0.14\n",
    "K_alumínio = 235\n",
    "K_ouro     = 327\n",
    "\n",
    "K_list = (K_ceramica, K_vidro, K_madeira, K_alumínio, K_ouro)\n",
    "\n",
    "# Calores Específicos (em J/(kg ⋅ K))\n",
    "c_vidro    = 870\n",
    "c_madeira  = 2530\n",
    "c_alumínio = 900\n",
    "c_ouro     = 129\n",
    "\n",
    "c_list = (c_ceramica, c_vidro, c_madeira, c_alumínio, c_ouro)\n",
    "\n",
    "# Densidades (em kg/m³)\n",
    "D_vidro    = 2190\n",
    "D_madeira  = 690\n",
    "D_alumínio = 2700\n",
    "D_ouro     = 19300\n",
    "\n",
    "D_list = (D_ceramica, D_vidro, D_madeira, D_alumínio, D_ouro)\n",
    "\n",
    "# Parâmetros para firerentes materiais de xícaras\n",
    "materiais_nomes  = (\"Cerâmica\", \"Vidro\", \"Madeira\", \"Alumínio\", \"Ouro\")\n",
    "materiais = zip(K_list, c_list, D_list)\n",
    "\n",
    "# Tempos que a água chega na tempetarua ideal para cada material\n",
    "materiais_tempos = []\n",
    "\n",
    "for material in materiais:\n",
    "    \n",
    "    # Tempos que a água chega na tempetarua ideal para temeratura inicial\n",
    "    material_tempos = []\n",
    "    \n",
    "    for T0_agua in lista_T0_agua:\n",
    "        T0 = (T0_agua, T0_xicara)\n",
    "\n",
    "        # Implementação do modelo\n",
    "        T_list_3 = odeint(modelo_2, T0, tempo_2_seg, args=(material, ))\n",
    "        T_agua_3 = T_list_3[:, 0]\n",
    "        \n",
    "        # Dado conclusivo\n",
    "        material_tempo = tempo_tempetarura_valor(tempo_2_min, T_agua_3, T_agua_ideal)\n",
    "        material_tempos.append(material_tempo)\n",
    "\n",
    "    materiais_tempos.append(material_tempos)\n",
    "\n",
    "# Plotagem do gráfico\n",
    "for i, material in enumerate(materiais_nomes):\n",
    "    xicara_tempos = materiais_tempos[i]\n",
    "    \n",
    "    plt.plot(lista_T0_agua, xicara_tempos, \"o\", label=material)\n",
    "    \n",
    "plt.title('Tempo para a água chegar a 65 ºC em função da temperatura inicial para diferentes xicaras')\n",
    "plt.ylabel('Tempo (min)')\n",
    "plt.xlabel('Temperatura inical (ºC)')\n",
    "plt.legend()\n",
    "plt.grid()\n",
    "plt.savefig('tempos_xicaras.png', dpi=300, transparent=True)\n",
    "plt.show()\n"
   ]
  },
  {
   "cell_type": "code",
   "execution_count": null,
   "metadata": {},
   "outputs": [],
   "source": []
  }
 ],
 "metadata": {
  "kernelspec": {
   "display_name": "Python 3",
   "language": "python",
   "name": "python3"
  },
  "language_info": {
   "codemirror_mode": {
    "name": "ipython",
    "version": 3
   },
   "file_extension": ".py",
   "mimetype": "text/x-python",
   "name": "python",
   "nbconvert_exporter": "python",
   "pygments_lexer": "ipython3",
   "version": "3.8.3"
  }
 },
 "nbformat": 4,
 "nbformat_minor": 4
}
